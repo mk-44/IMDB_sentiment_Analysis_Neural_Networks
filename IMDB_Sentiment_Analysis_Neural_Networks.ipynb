{
  "nbformat": 4,
  "nbformat_minor": 0,
  "metadata": {
    "colab": {
      "name": "Welcome To Colaboratory",
      "provenance": [],
      "collapsed_sections": [],
      "toc_visible": true
    },
    "kernelspec": {
      "display_name": "Python 3",
      "name": "python3"
    },
    "accelerator": "TPU"
  },
  "cells": [
    {
      "cell_type": "code",
      "metadata": {
        "id": "49VwBK0MzE5G"
      },
      "source": [
        "from keras.datasets import imdb"
      ],
      "execution_count": 74,
      "outputs": []
    },
    {
      "cell_type": "markdown",
      "metadata": {
        "id": "wKvctnilzUSs"
      },
      "source": [
        "Data Preparation!\n"
      ]
    },
    {
      "cell_type": "code",
      "metadata": {
        "id": "OT_rY8v6zXDk"
      },
      "source": [
        "((X_train, Y_train),(X_test, Y_test)) = imdb.load_data(num_words=10000)"
      ],
      "execution_count": 75,
      "outputs": []
    },
    {
      "cell_type": "markdown",
      "metadata": {
        "id": "PUCZgi4czqP6"
      },
      "source": [
        "This will load 10000 most commonly used words on IMDB reviews."
      ]
    },
    {
      "cell_type": "code",
      "metadata": {
        "id": "GbMl6dVazx85",
        "outputId": "49162582-de31-45e7-cc4b-8ca0a248c384",
        "colab": {
          "base_uri": "https://localhost:8080/"
        }
      },
      "source": [
        "X_train.shape"
      ],
      "execution_count": 76,
      "outputs": [
        {
          "output_type": "execute_result",
          "data": {
            "text/plain": [
              "(25000,)"
            ]
          },
          "metadata": {
            "tags": []
          },
          "execution_count": 76
        }
      ]
    },
    {
      "cell_type": "code",
      "metadata": {
        "id": "xm23k10Mz4Cc",
        "outputId": "01edeae1-fa6e-4cc0-8397-7e26889953a9",
        "colab": {
          "base_uri": "https://localhost:8080/"
        }
      },
      "source": [
        "X_test.shape"
      ],
      "execution_count": 77,
      "outputs": [
        {
          "output_type": "execute_result",
          "data": {
            "text/plain": [
              "(25000,)"
            ]
          },
          "metadata": {
            "tags": []
          },
          "execution_count": 77
        }
      ]
    },
    {
      "cell_type": "markdown",
      "metadata": {
        "id": "qphzDOYF0Avs"
      },
      "source": [
        "Keras convert text to numners as per decided by keras dictionary (as known as Tokenization)"
      ]
    },
    {
      "cell_type": "code",
      "metadata": {
        "id": "YeQb34Hh0FWf"
      },
      "source": [
        "word_idx = imdb.get_word_index()"
      ],
      "execution_count": 78,
      "outputs": []
    },
    {
      "cell_type": "code",
      "metadata": {
        "id": "Tkrqa2hW0c-N"
      },
      "source": [
        "idx_word = dict([val,key] for (key,val) in word_idx.items())"
      ],
      "execution_count": 79,
      "outputs": []
    },
    {
      "cell_type": "code",
      "metadata": {
        "id": "ep0iPt2z1NKa"
      },
      "source": [
        "actual_review = ' '.join([idx_word.get(idx-3,'#') for idx in X_train[0]])"
      ],
      "execution_count": 80,
      "outputs": []
    },
    {
      "cell_type": "code",
      "metadata": {
        "id": "v2y8ie7d1c35",
        "outputId": "fc94b98d-961e-4b69-a477-afbd2522c94c",
        "colab": {
          "base_uri": "https://localhost:8080/"
        }
      },
      "source": [
        "print(\"Sentence for X_train[0]\")\n",
        "print(actual_review)"
      ],
      "execution_count": 81,
      "outputs": [
        {
          "output_type": "stream",
          "text": [
            "Sentence for X_train[0]\n",
            "# this film was just brilliant casting location scenery story direction everyone's really suited the part they played and you could just imagine being there robert # is an amazing actor and now the same being director # father came from the same scottish island as myself so i loved the fact there was a real connection with this film the witty remarks throughout the film were great it was just brilliant so much that i bought the film as soon as it was released for # and would recommend it to everyone to watch and the fly fishing was amazing really cried at the end it was so sad and you know what they say if you cry at a film it must have been good and this definitely was also # to the two little boy's that played the # of norman and paul they were just brilliant children are often left out of the # list i think because the stars that play them all grown up are such a big profile for the whole film but these children are amazing and should be praised for what they have done don't you think the whole story was so lovely because it was true and was someone's life after all that was shared with us all\n"
          ],
          "name": "stdout"
        }
      ]
    },
    {
      "cell_type": "code",
      "metadata": {
        "id": "qbKHeUJL4DRF"
      },
      "source": [
        "import numpy as np"
      ],
      "execution_count": 82,
      "outputs": []
    },
    {
      "cell_type": "markdown",
      "metadata": {
        "id": "7H_NBn1-4i2a"
      },
      "source": [
        "Vectorization: So we will convert this every sentence in vector of size 10,000 in form of zeros and ones."
      ]
    },
    {
      "cell_type": "code",
      "metadata": {
        "id": "ZRDWSuy64tLX"
      },
      "source": [
        "def vectorise_sentences(sentences, dim = 10000):\n",
        "  output = np.zeros((len(sentences), dim))\n",
        "  for i, word in enumerate(sentences):\n",
        "    output[i,word] = 1\n",
        "  return output"
      ],
      "execution_count": 83,
      "outputs": []
    },
    {
      "cell_type": "code",
      "metadata": {
        "id": "eML44UFK6CAy"
      },
      "source": [
        "XT = X_train\n",
        "Xt = X_test\n",
        "X_train = vectorise_sentences(XT)\n",
        "X_test = vectorise_sentences(Xt)"
      ],
      "execution_count": 84,
      "outputs": []
    },
    {
      "cell_type": "code",
      "metadata": {
        "id": "yV55Q3AG6jKd"
      },
      "source": [
        "YT = Y_train\n",
        "Yt = Y_test\n",
        "Y_train = np.asarray(YT).astype('float32')\n",
        "Y_test = np.asarray(Yt).astype('float32')"
      ],
      "execution_count": 85,
      "outputs": []
    },
    {
      "cell_type": "markdown",
      "metadata": {
        "id": "A3zPBjq77N8J"
      },
      "source": [
        "Data Prepared, now define your model Architecture"
      ]
    },
    {
      "cell_type": "markdown",
      "metadata": {
        "id": "Key0uyl47p8Z"
      },
      "source": [
        "Input Layer --> Hidden layers --> Output Layer(Using Sigmoid Activation)"
      ]
    },
    {
      "cell_type": "code",
      "metadata": {
        "id": "dEu8MTYK7ze8"
      },
      "source": [
        "from keras import models\n",
        "from keras.layers import Dense"
      ],
      "execution_count": 86,
      "outputs": []
    },
    {
      "cell_type": "code",
      "metadata": {
        "id": "CWtXdsTz8QUU"
      },
      "source": [
        "model = models.Sequential()\n",
        "model.add(Dense(16,activation='relu', input_shape = (10000,)))\n",
        "model.add(Dense(16,activation='relu'))\n",
        "model.add(Dense(1,activation='sigmoid'))"
      ],
      "execution_count": 87,
      "outputs": []
    },
    {
      "cell_type": "code",
      "metadata": {
        "id": "_IGYQrLD9Hn2"
      },
      "source": [
        "model.compile(optimizer='rmsprop', loss='binary_crossentropy', metrics=['accuracy'])"
      ],
      "execution_count": 88,
      "outputs": []
    },
    {
      "cell_type": "code",
      "metadata": {
        "id": "H1MV_iZL99bA",
        "outputId": "e3c1e077-11ed-414f-8730-c5758cc30413",
        "colab": {
          "base_uri": "https://localhost:8080/"
        }
      },
      "source": [
        "model.summary()"
      ],
      "execution_count": 89,
      "outputs": [
        {
          "output_type": "stream",
          "text": [
            "Model: \"sequential_2\"\n",
            "_________________________________________________________________\n",
            "Layer (type)                 Output Shape              Param #   \n",
            "=================================================================\n",
            "dense_6 (Dense)              (None, 16)                160016    \n",
            "_________________________________________________________________\n",
            "dense_7 (Dense)              (None, 16)                272       \n",
            "_________________________________________________________________\n",
            "dense_8 (Dense)              (None, 1)                 17        \n",
            "=================================================================\n",
            "Total params: 160,305\n",
            "Trainable params: 160,305\n",
            "Non-trainable params: 0\n",
            "_________________________________________________________________\n"
          ],
          "name": "stdout"
        }
      ]
    },
    {
      "cell_type": "code",
      "metadata": {
        "id": "nJOt5l4z-C1o"
      },
      "source": [
        "X_val = X_train[:5000]\n",
        "X_train_new = X_train[5000:]\n",
        "Y_val = Y_train[:5000]\n",
        "Y_train_new = Y_train[5000:]"
      ],
      "execution_count": 90,
      "outputs": []
    },
    {
      "cell_type": "code",
      "metadata": {
        "id": "qH8J5_64Bd0A",
        "outputId": "246e6fe9-a337-46ae-e446-003ecd78a0a6",
        "colab": {
          "base_uri": "https://localhost:8080/"
        }
      },
      "source": [
        "hist = model.fit(X_train_new, Y_train_new, epochs=4, batch_size=512, validation_data= (X_val, Y_val))"
      ],
      "execution_count": 91,
      "outputs": [
        {
          "output_type": "stream",
          "text": [
            "Epoch 1/4\n",
            "40/40 [==============================] - 1s 27ms/step - loss: 0.4776 - accuracy: 0.8066 - val_loss: 0.3550 - val_accuracy: 0.8706\n",
            "Epoch 2/4\n",
            "40/40 [==============================] - 1s 21ms/step - loss: 0.2735 - accuracy: 0.9068 - val_loss: 0.3178 - val_accuracy: 0.8716\n",
            "Epoch 3/4\n",
            "40/40 [==============================] - 1s 31ms/step - loss: 0.2037 - accuracy: 0.9300 - val_loss: 0.2707 - val_accuracy: 0.8944\n",
            "Epoch 4/4\n",
            "40/40 [==============================] - 1s 21ms/step - loss: 0.1646 - accuracy: 0.9436 - val_loss: 0.2795 - val_accuracy: 0.8926\n"
          ],
          "name": "stdout"
        }
      ]
    },
    {
      "cell_type": "code",
      "metadata": {
        "id": "c_Ox0VEkDXTy",
        "outputId": "f910c92a-8aa6-428b-8ec9-31c68d376bb1",
        "colab": {
          "base_uri": "https://localhost:8080/"
        }
      },
      "source": [
        "hist.history.items()"
      ],
      "execution_count": 92,
      "outputs": [
        {
          "output_type": "execute_result",
          "data": {
            "text/plain": [
              "dict_items([('loss', [0.47759878635406494, 0.2735440731048584, 0.2036592662334442, 0.1646166890859604]), ('accuracy', [0.8065500259399414, 0.9067500233650208, 0.9300000071525574, 0.9435999989509583]), ('val_loss', [0.35495367646217346, 0.3178080916404724, 0.27074986696243286, 0.27950215339660645]), ('val_accuracy', [0.8705999851226807, 0.8715999722480774, 0.8944000005722046, 0.8925999999046326])])"
            ]
          },
          "metadata": {
            "tags": []
          },
          "execution_count": 92
        }
      ]
    },
    {
      "cell_type": "markdown",
      "metadata": {
        "id": "yppqTHerD-ED"
      },
      "source": [
        "Visualise the results"
      ]
    },
    {
      "cell_type": "code",
      "metadata": {
        "id": "ig7gJyfdEA56"
      },
      "source": [
        "import matplotlib.pyplot as plt"
      ],
      "execution_count": 93,
      "outputs": []
    },
    {
      "cell_type": "code",
      "metadata": {
        "id": "u6BS7NUaEde_",
        "outputId": "24cec6f2-414f-45f3-aa33-9c6872821a53",
        "colab": {
          "base_uri": "https://localhost:8080/",
          "height": 347
        }
      },
      "source": [
        "plt.plot(hist.history['loss'], label = 'Training_Loss')\n",
        "plt.plot(hist.history['accuracy'], label = 'Training_Accuracy')\n",
        "plt.plot(hist.history['val_loss'], label = 'Validation_loss')\n",
        "plt.plot(hist.history['val_accuracy'], label = 'Validation_Accuracy')\n",
        "plt.style.use('seaborn')\n",
        "plt.legend()\n",
        "plt.show()"
      ],
      "execution_count": 94,
      "outputs": [
        {
          "output_type": "display_data",
          "data": {
            "image/png": "[encoded data removed]",
            "text/plain": [
              "<Figure size 576x396 with 1 Axes>"
            ]
          },
          "metadata": {
            "tags": []
          }
        }
      ]
    },
    {
      "cell_type": "code",
      "metadata": {
        "id": "6FKv9NEIEpeh",
        "outputId": "60a0cfd4-d1f4-4697-abf3-7931c44e0947",
        "colab": {
          "base_uri": "https://localhost:8080/"
        }
      },
      "source": [
        "print(\"Accuracy = \",model.evaluate(X_test, Y_test)[1])"
      ],
      "execution_count": 95,
      "outputs": [
        {
          "output_type": "stream",
          "text": [
            "782/782 [==============================] - 1s 2ms/step - loss: 0.3030 - accuracy: 0.8786\n",
            "Accuracy =  0.8785600066184998\n"
          ],
          "name": "stdout"
        }
      ]
    },
    {
      "cell_type": "code",
      "metadata": {
        "id": "24AloKNtH4HK",
        "outputId": "1c6861fe-7716-491c-8102-0e3d4dddd257",
        "colab": {
          "base_uri": "https://localhost:8080/"
        }
      },
      "source": [
        "model.predict(X_test)"
      ],
      "execution_count": 96,
      "outputs": [
        {
          "output_type": "execute_result",
          "data": {
            "text/plain": [
              "array([[0.16410184],\n",
              "       [0.9999049 ],\n",
              "       [0.75328207],\n",
              "       ...,\n",
              "       [0.09432393],\n",
              "       [0.06690943],\n",
              "       [0.53095764]], dtype=float32)"
            ]
          },
          "metadata": {
            "tags": []
          },
          "execution_count": 96
        }
      ]
    }
  ]
}